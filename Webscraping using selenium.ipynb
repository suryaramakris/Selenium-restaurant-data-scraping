{
 "cells": [
  {
   "cell_type": "code",
   "execution_count": 34,
   "id": "a80b6839",
   "metadata": {},
   "outputs": [],
   "source": [
    "from selenium import webdriver\n",
    "from selenium.webdriver.chrome.options import Options\n",
    "from selenium.webdriver.chrome.service import Service\n",
    "\n",
    "import pandas as pd\n",
    "from datetime import datetime\n",
    "import os\n",
    "import sys"
   ]
  },
  {
   "cell_type": "code",
   "execution_count": 32,
   "id": "5f727dab",
   "metadata": {},
   "outputs": [
    {
     "name": "stderr",
     "output_type": "stream",
     "text": [
      "C:\\Users\\Soorya\\AppData\\Local\\Temp\\ipykernel_17400\\3687994894.py:3: DeprecationWarning: headless property is deprecated, instead use add_argument('--headless') or add_argument('--headless=new')\n",
      "  options.headless = True\n"
     ]
    }
   ],
   "source": [
    "app_path = os.path.dirname(sys.executable)\n",
    "\n",
    "now = datetime.now()\n",
    "mdy = now.strftime(\"%m-%d-%y\")\n",
    "\n",
    "website = 'https://www.thesun.co.uk/sport/football/'\n",
    "path = \"/path/to/chromedriver\"\n",
    "\n",
    "#for headless mode\n",
    "options = Options()\n",
    "options.headless = True\n",
    "\n",
    "service = Service(executable_path=path)\n",
    "driver = webdriver.Chrome(service=service,options=options)\n",
    "driver.get(website)\n",
    "\n",
    "#//div[@class = 'teaser__copy-container']\n",
    "containers = driver.find_elements(by='xpath',value='//div[@class = \"teaser__copy-container\"]')\n",
    "\n",
    "titles = []\n",
    "subtitles = []\n",
    "links = []\n",
    "\n",
    "for container in containers:\n",
    "    title = container.find_element(by='xpath',value='./a/h3').text\n",
    "    subtitle = container.find_element(by='xpath',value='./a/p').text\n",
    "    link = container.find_element(by='xpath',value='./a').get_attribute('href')\n",
    "    titles.append(title)\n",
    "    subtitles.append(subtitle)\n",
    "    links.append(link)\n",
    "    \n",
    "driver.quit()"
   ]
  },
  {
   "cell_type": "code",
   "execution_count": 33,
   "id": "668ea3e2",
   "metadata": {},
   "outputs": [],
   "source": [
    "#df = pd.DataFrame({'title':titles,'subtitles':subtitles,'links':links})\n",
    "#df.to_csv(\"football.csv\")\n",
    "\n",
    "df = pd.DataFrame({'title':titles,'subtitles':subtitles,'links':links})\n",
    "\n",
    "filename = f\"football-{mdy}.csv\"\n",
    "finalpath = os.path.join(app_path,filename)\n",
    "\n",
    "df.to_csv(finalpath)"
   ]
  },
  {
   "cell_type": "code",
   "execution_count": null,
   "id": "5cb360cc",
   "metadata": {},
   "outputs": [],
   "source": [
    "\n",
    "#name\n",
    "#//a[@class = \"sc-jNmHvw TqheP\"]/div/h4/text()\n",
    "#//a[@class = \"sc-eAudoH LbQMm\"]/div/h4/text()\n",
    "\n",
    "#ratings\n",
    "#//a[@class = \"sc-jNmHvw TqheP\"]/div/div/div/div/div/div/div/text()\n",
    "#//a[@class = \"sc-eAudoH LbQMm\"]/div/div/div/div/div/div/div/text()\n",
    "\n",
    "#per-person cost\n",
    "# //a[@class = \"sc-jNmHvw TqheP\"]/div[2]/p[2]/text()\n",
    "# //a[@class = \"sc-eAudoH LbQMm\"]/div[2]/p[2]/text()\n",
    "\n",
    "#dish served\n",
    "#//a[@class = \"sc-jNmHvw TqheP\"]/div[2]/p[1]/text()\n",
    "#//a[@class = \"sc-eAudoH LbQMm\"]/div[2]/p[1]/text()\n",
    "\n",
    "#orders\n",
    "#//a[@class = \"sc-jNmHvw TqheP\"]/div[4]//p/text()\n",
    "#//a[@class = \"sc-eAudoH LbQMm\"]/div[4]//p/text()"
   ]
  },
  {
   "cell_type": "code",
   "execution_count": null,
   "id": "a98d2707",
   "metadata": {},
   "outputs": [],
   "source": []
  }
 ],
 "metadata": {
  "kernelspec": {
   "display_name": "Python 3 (ipykernel)",
   "language": "python",
   "name": "python3"
  },
  "language_info": {
   "codemirror_mode": {
    "name": "ipython",
    "version": 3
   },
   "file_extension": ".py",
   "mimetype": "text/x-python",
   "name": "python",
   "nbconvert_exporter": "python",
   "pygments_lexer": "ipython3",
   "version": "3.9.13"
  }
 },
 "nbformat": 4,
 "nbformat_minor": 5
}
